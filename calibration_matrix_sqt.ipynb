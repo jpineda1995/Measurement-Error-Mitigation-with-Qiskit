{
 "cells": [
  {
   "cell_type": "markdown",
   "id": "f2641fd7-70ad-424b-86a0-2f4ea5f8850a",
   "metadata": {
    "tags": []
   },
   "source": [
    "# Measurement Error Mitigation - Calibration Matrix\n",
    "\n",
    "We are going to start with a brief explanation of how General Measurement Error Mitigation (MEM) can be implemented and then its implementation on the Standard Quantum Teleportation protocol."
   ]
  },
  {
   "cell_type": "code",
   "execution_count": 1,
   "id": "b12227af-ff39-4297-a78d-b3357682966e",
   "metadata": {},
   "outputs": [],
   "source": [
    "# Needed packages importing\n",
    "import numpy as np\n",
    "from numpy import *\n",
    "import cvxpy as cp\n",
    "import matplotlib.pyplot as plt\n",
    "# Importing standard Qiskit libraries\n",
    "from qiskit import QuantumCircuit, QuantumRegister, ClassicalRegister, execute, BasicAer, transpile, assemble, Aer, IBMQ \n",
    "from qiskit.tools.jupyter import *\n",
    "from qiskit.visualization import *\n",
    "from ibm_quantum_widgets import *\n",
    "from qiskit.providers.aer import QasmSimulator\n",
    "from qiskit.extensions import Initialize\n",
    "from qiskit.tools import job_monitor"
   ]
  },
  {
   "cell_type": "code",
   "execution_count": 2,
   "id": "e86fc38d-416a-4e93-a1e3-69d7ea529d2d",
   "metadata": {},
   "outputs": [],
   "source": [
    "# Loading your IBM Quantum account(s)\n",
    "IBMQ.load_account()\n",
    "provider = IBMQ.get_provider('ibm-q')\n",
    "simulator = Aer.get_backend('qasm_simulator')\n",
    "backend = provider.get_backend('ibmq_manila')\n",
    "simulator = Aer.get_backend('qasm_simulator')\n",
    "backendsv = BasicAer.get_backend('statevector_simulator')"
   ]
  },
  {
   "cell_type": "markdown",
   "id": "9225f980-e8d7-4b1c-8e15-fe66386785fe",
   "metadata": {},
   "source": [
    "In order to exemplify it in an easier way the implementation, we are going to say first that we wish to provide MEM of a circuit based on a single qubit and the application of the H-gate on it. So, we are going to construct the corresponding Calibration matrix."
   ]
  },
  {
   "cell_type": "code",
   "execution_count": 3,
   "id": "ad269d60-8619-42f6-bae2-20ac4728c2ef",
   "metadata": {},
   "outputs": [
    {
     "data": {
      "image/png": "[encoded data removed]",
      "text/plain": [
       "<Figure size 295.067x144.48 with 1 Axes>"
      ]
     },
     "execution_count": 3,
     "metadata": {},
     "output_type": "execute_result"
    }
   ],
   "source": [
    "# This basic Circuit\n",
    "single_qubit = QuantumRegister(1, 'calibration_qubit')\n",
    "single_bit = ClassicalRegister(1, 'crCQ')\n",
    "mycircuit = QuantumCircuit(single_qubit, single_bit)\n",
    "mycircuit.h(0)\n",
    "mycircuit.draw('mpl')"
   ]
  },
  {
   "cell_type": "markdown",
   "id": "5f6e67f9-c067-4668-86e1-0865fe5513e6",
   "metadata": {},
   "source": [
    "We are going to use the Unitary condition that it possesses. Then, we need to construct two circuits, where the basic idea is: we prepare the qubit in the quantum state 0. We proceed to measure this qubit in an experiment of 1000 shots. If the device is completely accurate, then we should get an answer of 1000 times the quantum state 0. In state-of-art quantum devices, there are prone-error, and this is what we are going to try to improve. The second circuit will have the qubit initialized in the quantum state 1, and again it is measured. Then, we proceed to construct the calibration matrix, where we say that the times that the quantum state was measured in a state in which it was not prepared is an error caused by the measurement of it."
   ]
  },
  {
   "cell_type": "code",
   "execution_count": 4,
   "id": "a5a22dfa-8446-4786-bcaf-dbe1e30ea6d8",
   "metadata": {},
   "outputs": [
    {
     "data": {
      "image/png": "[encoded data removed]",
      "text/plain": [
       "<Figure size 266.907x144.48 with 1 Axes>"
      ]
     },
     "execution_count": 4,
     "metadata": {},
     "output_type": "execute_result"
    }
   ],
   "source": [
    "# First Circuit\n",
    "qr = QuantumRegister(1)\n",
    "cr = ClassicalRegister(1)\n",
    "cal_cir = QuantumCircuit(qr, cr)\n",
    "cal_cir.h(0)\n",
    "cal_cir.h(0)\n",
    "cal_cir.measure(0,0)\n",
    "cal_cir.draw('mpl')"
   ]
  },
  {
   "cell_type": "code",
   "execution_count": 5,
   "id": "4302750b-bb22-499b-8939-d9e86ab8d1aa",
   "metadata": {},
   "outputs": [],
   "source": [
    "nshots = 10_000\n",
    "counts = execute(cal_cir, backend = simulator, shots = nshots).result().get_counts()"
   ]
  },
  {
   "cell_type": "code",
   "execution_count": 6,
   "id": "07a26c81-8ca1-4704-ab48-cb9d950151c6",
   "metadata": {},
   "outputs": [
    {
     "data": {
      "image/png": "[encoded data removed]",
      "text/plain": [
       "<Figure size 327.397x144.48 with 1 Axes>"
      ]
     },
     "execution_count": 6,
     "metadata": {},
     "output_type": "execute_result"
    }
   ],
   "source": [
    "# Second Circuit\n",
    "sqr = QuantumRegister(1)\n",
    "scr = ClassicalRegister(1)\n",
    "scal_cir = QuantumCircuit(sqr, scr)\n",
    "scal_cir.h(0)\n",
    "scal_cir.h(0)\n",
    "scal_cir.x(0)\n",
    "scal_cir.measure(0,0)\n",
    "scal_cir.draw('mpl')"
   ]
  },
  {
   "cell_type": "code",
   "execution_count": 7,
   "id": "f0ecd5b7-6296-4f26-bd06-f75852a57daf",
   "metadata": {},
   "outputs": [],
   "source": [
    "nshots = 10_000\n",
    "scounts = execute(scal_cir, backend = simulator, shots = nshots).result().get_counts()"
   ]
  },
  {
   "cell_type": "markdown",
   "id": "9e413ef1-795e-4f79-9b9d-acdbdf996a71",
   "metadata": {},
   "source": [
    "Now, we can introduce the values on the calibration matrix, taking the counts of each circuit."
   ]
  },
  {
   "cell_type": "code",
   "execution_count": 8,
   "id": "bfbe61e0-7a1b-413e-8f66-abb47faaf18b",
   "metadata": {},
   "outputs": [
    {
     "data": {
      "text/latex": [
       "$$\n",
       "\n",
       "\\begin{bmatrix}\n",
       "1 & 0  \\\\\n",
       " 0 & 1  \\\\\n",
       " \\end{bmatrix}\n",
       "$$"
      ],
      "text/plain": [
       "<IPython.core.display.Latex object>"
      ]
     },
     "execution_count": 8,
     "metadata": {},
     "output_type": "execute_result"
    }
   ],
   "source": [
    "# Reading Data\n",
    "for i in range(2):\n",
    "    for k,v in counts.items():\n",
    "        ans = [k[::-1],v]\n",
    "    for sk,sv in scounts.items():\n",
    "        sans = [sk[::-1],sv]\n",
    "# Calibration Matrix\n",
    "cal_matrix = zeros((2,2))\n",
    "cal_matrix[0,0] = ans[1]/nshots\n",
    "cal_matrix[1,1] = sans[1]/nshots\n",
    "array_to_latex(cal_matrix)"
   ]
  },
  {
   "cell_type": "markdown",
   "id": "0dd55786-61a5-4620-a645-f49ca97b49f6",
   "metadata": {},
   "source": [
    "For this case, the calibration matrix is easy given that we are dealing with simulations without noise, and additionally the depth of the circuit is small. On the other hand, the computation of the calibration matrix will be more complex when we need to increase the amount of qubits to be calibrated and the number of quantum gates."
   ]
  },
  {
   "cell_type": "markdown",
   "id": "21b4e311-a4c8-41fe-8f33-42a457788e15",
   "metadata": {},
   "source": [
    "# Calibration Matrix for the Standard Quantum Teleportation Protocol\n",
    "\n",
    "We can check in Quantum Teleportation repository, all needed steps to accomplish the Standard Quantum Teleportation. To use MEM techniques into it, we are going to get the following quantum circuits:"
   ]
  },
  {
   "cell_type": "code",
   "execution_count": 9,
   "id": "76098fef-a59c-4d66-8ef4-f9ef8e45f8e5",
   "metadata": {},
   "outputs": [],
   "source": [
    "# Generation of a single gate of the SQT circuit\n",
    "cal_circuit = QuantumCircuit(3)\n",
    "cal_circuit.h(1)\n",
    "cal_circuit.cx(1,2)\n",
    "cal_circuit.cx(0,1)\n",
    "cal_circuit.h(0)\n",
    "cal_circuit.cz(0,2)\n",
    "cal_circuit.cx(1,2)\n",
    "#Reversal\n",
    "cal_circuit.cx(1,2)\n",
    "cal_circuit.cz(0,2)\n",
    "cal_circuit.h(0)\n",
    "cal_circuit.cx(0,1)\n",
    "cal_circuit.cx(1,2)\n",
    "cal_circuit.h(1)\n",
    "#To gate\n",
    "sqt_gate = cal_circuit.to_gate()"
   ]
  },
  {
   "cell_type": "code",
   "execution_count": 13,
   "id": "cb89d0c4-24d3-4f67-b401-c91e1d9137df",
   "metadata": {},
   "outputs": [
    {
     "data": {
      "text/latex": [
       "$$\n",
       "\n",
       "\\begin{bmatrix}\n",
       "1 & 0 & 0 & 0 & 0 & 0 & 0 & 0  \\\\\n",
       " 0 & 1 & 0 & 0 & 0 & 0 & 0 & 0  \\\\\n",
       " 0 & 0 & 1 & 0 & 0 & 0 & 0 & 0  \\\\\n",
       " 0 & 0 & 0 & 1 & 0 & 0 & 0 & 0  \\\\\n",
       " 0 & 0 & 0 & 0 & 1 & 0 & 0 & 0  \\\\\n",
       " 0 & 0 & 0 & 0 & 0 & 0 & 0 & 0  \\\\\n",
       " 0 & 0 & 0 & 0 & 0 & 1 & 1 & 0  \\\\\n",
       " 0 & 0 & 0 & 0 & 0 & 0 & 0 & 1  \\\\\n",
       " \\end{bmatrix}\n",
       "$$"
      ],
      "text/plain": [
       "<IPython.core.display.Latex object>"
      ]
     },
     "execution_count": 13,
     "metadata": {},
     "output_type": "execute_result"
    }
   ],
   "source": [
    "# The SQT Circuit\n",
    "n_qubits = 3\n",
    "cal_matrix = zeros((2**n_qubits, 2**n_qubits))\n",
    "\n",
    "for i in range(2**n_qubits):\n",
    "    sqt_qr = QuantumRegister(n_qubits)\n",
    "    sqt_cr = ClassicalRegister(3)\n",
    "    sqt_cir = QuantumCircuit(sqt_qr, sqt_cr)\n",
    "    sqt_cir.append(sqt_gate,[0,1,2])\n",
    "    sqt_cir.barrier()\n",
    "    #For MEM\n",
    "    if i==1:\n",
    "        sqt_cir.x(0)\n",
    "        sqt_cir.barrier()\n",
    "    if i==2:\n",
    "        sqt_cir.x(1)\n",
    "        sqt_cir.barrier()\n",
    "    if i==3:\n",
    "        sqt_cir.x(0)\n",
    "        sqt_cir.x(1)\n",
    "        sqt_cir.barrier()\n",
    "    if i==4:\n",
    "        sqt_cir.x(2)\n",
    "        sqt_cir.barrier()\n",
    "    if i==5:\n",
    "        sqt_cir.x(1)\n",
    "        sqt_cir.x(2)\n",
    "        sqt_cir.barrier()\n",
    "    if i==6:\n",
    "        sqt_cir.x(1)\n",
    "        sqt_cir.x(2)\n",
    "        sqt_cir.barrier()\n",
    "    if i==7:\n",
    "        sqt_cir.x(0)\n",
    "        sqt_cir.x(1)\n",
    "        sqt_cir.x(2)\n",
    "        sqt_cir.barrier()\n",
    "    #Measurements\n",
    "    sqt_cir.measure([0,1,2],[0,1,2])\n",
    "    #Executions\n",
    "    nshots = 10_000\n",
    "    counts = execute(sqt_cir, backend = simulator, shots = nshots).result().get_counts()\n",
    "    #Data_reading\n",
    "    cal_data = [(k[::-1],v) for k,v in counts.items()]\n",
    "    cal_data.sort(key = lambda x: x[1], reverse=True)\n",
    "    cal_imp = []\n",
    "    for k, v in cal_data: cal_imp.append( [ int(c) for c in k ] )\n",
    "    #Filling the calibration matrix\n",
    "    for l in range(len(cal_imp)):\n",
    "        num_dec = 0\n",
    "        for j in range(n_qubits):\n",
    "            num_dec += (2**j)*(cal_imp[l][j])\n",
    "        cal_matrix[num_dec,i] = cal_data[l][1]/nshots\n",
    "array_to_latex(cal_matrix)"
   ]
  },
  {
   "cell_type": "markdown",
   "id": "24c6a9eb-fec7-4bf1-be85-e153af28e639",
   "metadata": {},
   "source": [
    "Now, the calibration matrix can be experimentally obtained by choosing a real device. It is important to remember that once the calibration procedure is applied, we need need to check that our data correctly accomplish the probability density distribution, given that using particular software to solve the linear system used to give back the corrected data could compute negative entries, which can be controlled by setting the correct restrictions on how we wish to solve the linear system. "
   ]
  }
 ],
 "metadata": {
  "kernelspec": {
   "display_name": "Python 3 (ipykernel)",
   "language": "python",
   "name": "python3"
  },
  "language_info": {
   "codemirror_mode": {
    "name": "ipython",
    "version": 3
   },
   "file_extension": ".py",
   "mimetype": "text/x-python",
   "name": "python",
   "nbconvert_exporter": "python",
   "pygments_lexer": "ipython3",
   "version": "3.9.7"
  }
 },
 "nbformat": 4,
 "nbformat_minor": 5
}
